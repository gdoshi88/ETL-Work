{
 "cells": [
  {
   "cell_type": "code",
   "execution_count": 1,
   "metadata": {},
   "outputs": [],
   "source": [
    "from splinter import Browser\n",
    "from bs4 import BeautifulSoup as bs\n",
    "import time\n",
    "import selenium\n"
   ]
  },
  {
   "cell_type": "code",
   "execution_count": 5,
   "metadata": {},
   "outputs": [],
   "source": [
    "# executable_path = {'executable_path': '/Users/Pariah/Downloads/chromedriver'}\n",
    "executable_path = {'executable_path': 'chromedriver'}\n",
    "\n",
    "browser = Browser('chrome', **executable_path, headless=True)\n"
   ]
  },
  {
   "cell_type": "code",
   "execution_count": 6,
   "metadata": {},
   "outputs": [
    {
     "name": "stdout",
     "output_type": "stream",
     "text": [
      "{'title': 'Lenovo - Yoga C630 WOS 2-in-1 13.3\" Touch-Screen Laptop - Snapdragon 850 - 8GB Memory - 128GB Solid State Drive (Verizon) - Iron Gray', 'price': '$599.99', 'link': 'https://www.bestbuy.com//site/lenovo-yoga-c630-wos-2-in-1-13-3-touch-screen-laptop-snapdragon-850-8gb-memory-128gb-solid-state-drive-verizon-iron-gray/6323660.p?skuId=6323660', 'upc': '6323660', 'model': '81JL0018US', 'brand': 'Lenovo'}\n",
      "{'title': 'Lenovo - Yoga 730 2-in-1 15.6\" Touch-Screen Laptop - Intel Core i5 - 12GB Memory - 256GB Solid State Drive - Abyss Blue', 'price': '$649.99', 'link': 'https://www.bestbuy.com//site/lenovo-yoga-730-2-in-1-15-6-touch-screen-laptop-intel-core-i5-12gb-memory-256gb-solid-state-drive-abyss-blue/6331991.p?skuId=6331991', 'upc': '6323660', 'model': '81JS005BUS', 'brand': 'Lenovo'}\n",
      "{'title': 'Lenovo - S145-15IWL 15.6\" Laptop - Intel Pentium Gold - 4GB Memory - 500GB Hard Drive - Granite Black Texture', 'price': '$199.99', 'link': 'https://www.bestbuy.com//site/lenovo-s145-15iwl-15-6-laptop-intel-pentium-gold-4gb-memory-500gb-hard-drive-granite-black-texture/6323665.p?skuId=6323665', 'upc': '6323660', 'model': '81MV0001US', 'brand': 'Lenovo'}\n",
      "{'title': 'Lenovo - 130-15AST 15.6\" Laptop - AMD A9-Series - 4GB Memory - AMD Radeon R5 - 128GB Solid State Drive - Black', 'price': '$219.99', 'link': 'https://www.bestbuy.com//site/lenovo-130-15ast-15-6-laptop-amd-a9-series-4gb-memory-amd-radeon-r5-128gb-solid-state-drive-black/6323661.p?skuId=6323661', 'upc': '6323660', 'model': '81H5002FUS', 'brand': 'Lenovo'}\n",
      "{'title': 'HP - Pavilion x360 2-in-1 14\" Touch-Screen Laptop - Intel Core i3 - 8GB Memory - 128GB Solid State Drive - Natural Silver, Ash Silver Base And Keyboard Frame', 'price': '$399.99', 'link': 'https://www.bestbuy.com//site/hp-pavilion-x360-2-in-1-14-touch-screen-laptop-intel-core-i3-8gb-memory-128gb-solid-state-drive-natural-silver-ash-silver-base-and-keyboard-frame/6339312.p?skuId=6339312', 'upc': '6323660', 'model': '14M-DH0001DX', 'brand': 'HP'}\n",
      "{'title': 'Lenovo - Yoga 730 2-in-1 15.6\" Touch-Screen Laptop - Intel Core i7 - 12GB Memory - 256GB Solid State Drive - Abyss Blue', 'price': '$849.99', 'link': 'https://www.bestbuy.com//site/lenovo-yoga-730-2-in-1-15-6-touch-screen-laptop-intel-core-i7-12gb-memory-256gb-solid-state-drive-abyss-blue/6331989.p?skuId=6331989', 'upc': '6323660', 'model': '81JS005CUS', 'brand': 'Lenovo'}\n",
      "{'title': 'HP - ENVY x360 2-in-1 15.6\" Touch-Screen Laptop - AMD Ryzen 5 - 8GB Memory - 256GB Solid State Drive - Sandblasted Anodized Finish, Nightfall Black', 'price': '$629.99', 'link': 'https://www.bestbuy.com//site/hp-envy-x360-2-in-1-15-6-touch-screen-laptop-amd-ryzen-5-8gb-memory-256gb-solid-state-drive-sandblasted-anodized-finish-nightfall-black/6339175.p?skuId=6339175', 'upc': '6323660', 'model': '15M-DS0011DX', 'brand': 'HP'}\n",
      "{'title': 'HP - 17.3\" Laptop - Intel Core i5 - 8GB Memory - 256GB Solid State Drive - Jet Black, Maglia Pattern', 'price': '$479.99', 'link': 'https://www.bestbuy.com//site/hp-17-3-laptop-intel-core-i5-8gb-memory-256gb-solid-state-drive-jet-black-maglia-pattern/6356671.p?skuId=6356671', 'upc': '6323660', 'model': '17-BY1053DX', 'brand': 'HP'}\n",
      "{'title': 'HP - Pavilion x360 2-in-1 14\" Touch-Screen Laptop - Intel Core i5 - 8GB Memory - 128GB Solid State Drive - Anodized Finish In Warm Gold And Luminous Gold', 'price': '$599.99', 'link': 'https://www.bestbuy.com//site/hp-pavilion-x360-2-in-1-14-touch-screen-laptop-intel-core-i5-8gb-memory-128gb-solid-state-drive-anodized-finish-in-warm-gold-and-luminous-gold/6338818.p?skuId=6338818', 'upc': '6323660', 'model': '14M-DH0003DX', 'brand': 'HP'}\n",
      "{'title': 'MSI - GS Series Stealth 15.6\" Gaming Laptop - Intel Core i7 - 16GB Memory - NVIDIA GeForce GTX 1660Ti - 512GB SSD - Matte Black With Gold Diamond Cut', 'price': '$1,419.99', 'link': 'https://www.bestbuy.com//site/msi-gs-series-stealth-15-6-gaming-laptop-intel-core-i7-16gb-memory-nvidia-geforce-gtx-1660ti-512gb-ssd-matte-black-with-gold-diamond-cut/6343295.p?skuId=6343295', 'upc': '6323660', 'model': 'GS65 STEALTH-296', 'brand': 'MSI'}\n",
      "{'title': 'Lenovo - 330S-15IKB 15.6\" Laptop - Intel Core i3 - 4GB Memory - 128GB Solid State Drive - Midnight Blue', 'price': '$279.99', 'link': 'https://www.bestbuy.com//site/lenovo-330s-15ikb-15-6-laptop-intel-core-i3-4gb-memory-128gb-solid-state-drive-midnight-blue/6323662.p?skuId=6323662', 'upc': '6323660', 'model': '81F5018EUS', 'brand': 'Lenovo'}\n",
      "{'title': 'HP - Pavilion x360 2-in-1 11.6\" Touch-Screen Laptop - Intel Pentium - 4GB Memory - 128GB Solid State Drive - Ash Silver Keyboard Frame, Natural Silver', 'price': '$299.99', 'link': 'https://www.bestbuy.com//site/hp-pavilion-x360-2-in-1-11-6-touch-screen-laptop-intel-pentium-4gb-memory-128gb-solid-state-drive-ash-silver-keyboard-frame-natural-silver/6339311.p?skuId=6339311', 'upc': '6323660', 'model': '11M-AP0013DX', 'brand': 'HP'}\n",
      "{'title': 'Microsoft - Surface Pro 6 - 12.3\" Touch Screen - Intel Core i5 - 8GB Memory - 256GB SSD - With Keyboard - Black', 'price': '$999.00', 'link': 'https://www.bestbuy.com//site/microsoft-surface-pro-6-12-3-touch-screen-intel-core-i5-8gb-memory-256gb-ssd-with-keyboard-black/6306014.p?skuId=6306014', 'upc': '6323660', 'model': 'LJM-00028', 'brand': 'Microsoft'}\n",
      "{'title': 'Dell - G3 15.6\" Gaming Laptop - Intel Core i7 - 16GB Memory - NVIDIA GeForce GTX 1660Ti - 512GB SSD', 'price': '$1,099.99', 'link': 'https://www.bestbuy.com//site/dell-g3-15-6-gaming-laptop-intel-core-i7-16gb-memory-nvidia-geforce-gtx-1660ti-512gb-ssd/6350873.p?skuId=6350873', 'upc': '6323660', 'model': 'I3590-7957BLK-PUS', 'brand': 'Dell'}\n",
      "{'title': 'HP - 14\" Laptop - Intel Core i3 - 4GB Memory - 128GB Solid State Drive - Ash Silver Keyboard Frame', 'price': '$279.99', 'link': 'https://www.bestbuy.com//site/hp-14-laptop-intel-core-i3-4gb-memory-128gb-solid-state-drive-ash-silver-keyboard-frame/6326270.p?skuId=6326270', 'upc': '6323660', 'model': '14-CF0006DX', 'brand': 'HP'}\n",
      "{'title': 'Microsoft - Surface Laptop 2 - 13.5\" Touch-Screen - Intel Core i5 - 8GB Memory - 128GB Solid State Drive (Latest Model) - Platinum', 'price': '$799.00', 'link': 'https://www.bestbuy.com//site/microsoft-surface-laptop-2-13-5-touch-screen-intel-core-i5-8gb-memory-128gb-solid-state-drive-latest-model-platinum/6298022.p?skuId=6298022', 'upc': '6323660', 'model': 'LQL-00001', 'brand': 'Microsoft'}\n",
      "{'title': 'Dell - Inspiron 15.6\" Touch-Screen Laptop - Intel Core i7 - 12GB Memory - 256GB Solid State Drive - Silver', 'price': '$699.99', 'link': 'https://www.bestbuy.com//site/dell-inspiron-15-6-touch-screen-laptop-intel-core-i7-12gb-memory-256gb-solid-state-drive-silver/6360180.p?skuId=6360180', 'upc': '6323660', 'model': 'I5570-7961SLV-PUS', 'brand': 'Dell'}\n",
      "{'title': 'Lenovo - Yoga 730 2-in-1 13.3\" Touch-Screen Laptop - Intel Core i5 - 8GB Memory - 256GB Solid State Drive - Platinum', 'price': '$829.99', 'link': 'https://www.bestbuy.com//site/lenovo-yoga-730-2-in-1-13-3-touch-screen-laptop-intel-core-i5-8gb-memory-256gb-solid-state-drive-platinum/6201041.p?skuId=6201041', 'upc': '6323660', 'model': '81CT0008US', 'brand': 'Lenovo'}\n",
      "{'title': 'HP - Envy 17.3\" Touch-Screen Laptop - Intel Core i7 - 12GB Memory - 512GB SSD + Optane - Natural Silver, Sandblasted Anodized Finish', 'price': '$999.99', 'link': 'https://www.bestbuy.com//site/hp-envy-17-3-touch-screen-laptop-intel-core-i7-12gb-memory-512gb-ssd-optane-natural-silver-sandblasted-anodized-finish/6338817.p?skuId=6338817', 'upc': '6323660', 'model': '17M-CE0013DX', 'brand': 'HP'}\n",
      "{'title': 'HP - Stream 11.6\" Laptop - Intel Celeron - 4GB Memory - 64GB eMMC Flash Memory - Textured Linear Grooves In Snow White', 'price': '$160.99', 'link': 'https://www.bestbuy.com//site/hp-stream-11-6-laptop-intel-celeron-4gb-memory-64gb-emmc-flash-memory-textured-linear-grooves-in-snow-white/6304136.p?skuId=6304136', 'upc': '6323660', 'model': '11-AH012DX', 'brand': 'HP'}\n",
      "{'title': 'HP - Spectre x360 2-in-1 15.6\" 4K Ultra HD Touch-Screen Laptop - Intel Core i7 - 16GB Memory - 512GB SSD + Optane - HP Finish In Dark Ash Silver', 'price': '$1,599.99', 'link': 'https://www.bestbuy.com//site/hp-spectre-x360-2-in-1-15-6-4k-ultra-hd-touch-screen-laptop-intel-core-i7-16gb-memory-512gb-ssd-optane-hp-finish-in-dark-ash-silver/6339281.p?skuId=6339281', 'upc': '6323660', 'model': '15-DF0033DX', 'brand': 'HP'}\n",
      "{'title': 'ASUS - 2-in-1 15.6\" 4K Ultra HD Touch-Screen Laptop Intel Core i7 - 16GB Memory NVIDIA GeForce GTX 1050 2TB HDD + 256GB SSD - Gun Metal Gray', 'price': '$1,199.99', 'link': 'https://www.bestbuy.com//site/asus-2-in-1-15-6-4k-ultra-hd-touch-screen-laptop-intel-core-i7-16gb-memory-nvidia-geforce-gtx-1050-2tb-hdd-256gb-ssd-gun-metal-gray/6292311.p?skuId=6292311', 'upc': '6323660', 'model': 'Q536FD-BI7T15', 'brand': 'ASUS'}\n",
      "{'title': 'Lenovo - 130S-11IGM 11.6\" Laptop - Intel Celeron - 4GB Memory - 64GB eMMC Flash Memory - Mineral Gray', 'price': '$149.99', 'link': 'https://www.bestbuy.com//site/lenovo-130s-11igm-11-6-laptop-intel-celeron-4gb-memory-64gb-emmc-flash-memory-mineral-gray/6331986.p?skuId=6331986', 'upc': '6323660', 'model': '81KT000AUS', 'brand': 'Lenovo'}\n"
     ]
    },
    {
     "name": "stdout",
     "output_type": "stream",
     "text": [
      "{'title': 'Dell - G3 15.6\" Gaming Laptop - Intel Core i5 - 8GB Memory - NVIDIA GeForce GTX 1660Ti - 512GB Solid State Drive - Black', 'price': '$899.99', 'link': 'https://www.bestbuy.com//site/dell-g3-15-6-gaming-laptop-intel-core-i5-8gb-memory-nvidia-geforce-gtx-1660ti-512gb-solid-state-drive-black/6350872.p?skuId=6350872', 'upc': '6323660', 'model': 'I3590-5988BLK-PUS', 'brand': 'Dell'}\n"
     ]
    }
   ],
   "source": [
    "url = \"https://www.bestbuy.com/site/windows/windows-laptops/pcmcat748300547900.c?id=pcmcat748300547900\"\n",
    "laptops = {}\n",
    "browser.visit(url)\n",
    "time.sleep(1.25)\n",
    "\n",
    "html = browser.html\n",
    "soup = bs(html, 'html.parser')\n",
    "\n",
    "mothers = soup.find_all('div', class_='right-column')\n",
    "for mother in mothers:\n",
    "    title = mother.find('div', class_='sku-title').get_text().strip()\n",
    "    price = mother.find('div', class_='priceView-hero-price priceView-customer-price').find('span').get_text().strip()\n",
    "    partial_link = mother.find('div', class_='sku-title').find('a')['href'].strip()\n",
    "    base_url = \"https://www.bestbuy.com/\"\n",
    "    link = base_url + partial_link\n",
    "    model = mother.find('span', class_='sku-value').get_text().strip()\n",
    "    sku = soup.find('div', class_='sku-model').findAll('div', class_='sku-attribute-title')[1].find('span', class_='sku-value').get_text().strip()\n",
    "    \n",
    "    title_nospace = title.replace(\" \", \"\")\n",
    "    title_to_list = title_nospace.split(\"-\")\n",
    "    \n",
    "    dic = {\n",
    "        'title': title,\n",
    "        'price': price,\n",
    "        'link': link,\n",
    "        'upc': sku,\n",
    "        'model': model,\n",
    "        'brand' : title_to_list[0]\n",
    "    }\n",
    "    print(dic)\n",
    "    \n",
    "    "
   ]
  },
  {
   "cell_type": "code",
   "execution_count": null,
   "metadata": {},
   "outputs": [],
   "source": []
  }
 ],
 "metadata": {
  "kernelspec": {
   "display_name": "Python 3",
   "language": "python",
   "name": "python3"
  },
  "language_info": {
   "codemirror_mode": {
    "name": "ipython",
    "version": 3
   },
   "file_extension": ".py",
   "mimetype": "text/x-python",
   "name": "python",
   "nbconvert_exporter": "python",
   "pygments_lexer": "ipython3",
   "version": "3.7.3"
  }
 },
 "nbformat": 4,
 "nbformat_minor": 2
}
